{
 "cells": [
  {
   "cell_type": "code",
   "execution_count": 2,
   "metadata": {},
   "outputs": [
    {
     "name": "stderr",
     "output_type": "stream",
     "text": [
      "Using TensorFlow backend.\n"
     ]
    }
   ],
   "source": [
    "from keras.layers import Input, Concatenate, Dense, Embedding, Flatten, LSTM, Conv2D, MaxPool2D\n",
    "from keras.models import Model, Sequential\n",
    "from keras.callbacks import EarlyStopping\n",
    "\n",
    "import numpy as np\n",
    "import pandas as pd\n",
    "from sklearn.linear_model import LinearRegression, Ridge, Lasso, RidgeCV\n",
    "from sklearn.linear_model import LogisticRegression\n",
    "\n",
    "from sklearn.ensemble import RandomForestClassifier\n",
    "import matplotlib.pyplot as plt\n",
    "#from keras.models import Sequential\n",
    "#from keras.layers import Dense\n",
    "#from keras.wrappers.scikit_learn import KerasRegressor\n",
    "from sklearn.model_selection import train_test_split, cross_val_score, KFold\n",
    "from sklearn.preprocessing import normalize, StandardScaler, PolynomialFeatures\n",
    "from sklearn.pipeline import Pipeline\n",
    "from sklearn.model_selection import GridSearchCV\n",
    "\n",
    "from imblearn.under_sampling import RandomUnderSampler\n",
    "from numpy.linalg import svd"
   ]
  },
  {
   "cell_type": "code",
   "execution_count": null,
   "metadata": {},
   "outputs": [],
   "source": [
    "d2v = np.load('/home/hzhan828/d2vecs.npy')\n",
    "all_img = np.load('/home/hzhan828/kiva/all_img.npy')\n",
    "new_comb = np.load('/home/hzhan828/kiva/newcomb_down.npy')\n",
    "new_test_label = np.load('/home/hzhan828/kiva/new_test_label.npy')"
   ]
  },
  {
   "cell_type": "code",
   "execution_count": null,
   "metadata": {},
   "outputs": [],
   "source": [
    "with open('/home/hzhan828/kiva/removed_indexes.pkl', 'rb') as handle:\n",
    "    removed_indexes = pickle.load(handle)"
   ]
  },
  {
   "cell_type": "code",
   "execution_count": null,
   "metadata": {},
   "outputs": [],
   "source": [
    "new_d2v = np.zeros((149750,300))\n",
    "for i in range(149750):\n",
    "    if i not in removed_indexes:\n",
    "        new_d2v[i] = d2v[i]\n"
   ]
  },
  {
   "cell_type": "code",
   "execution_count": null,
   "metadata": {},
   "outputs": [],
   "source": [
    "new_comb_norm = normalize(new_comb)\n",
    "X_train, X_test, y_train, y_test, d2v_train, d2v_test,img_train, img_test = train_test_split(new_comb, new_test_label, new_d2v,all_img,test_size = 0.1, random_state = 0)\n"
   ]
  },
  {
   "cell_type": "code",
   "execution_count": 8,
   "metadata": {},
   "outputs": [
    {
     "name": "stdout",
     "output_type": "stream",
     "text": [
      "__________________________________________________________________________________________________\n",
      "Layer (type)                    Output Shape         Param #     Connected to                     \n",
      "==================================================================================================\n",
      "E1 (InputLayer)                 (None, 300, 300, 3)  0                                            \n",
      "__________________________________________________________________________________________________\n",
      "conv2d_9 (Conv2D)               (None, 298, 298, 5)  140         E1[0][0]                         \n",
      "__________________________________________________________________________________________________\n",
      "max_pooling2d_9 (MaxPooling2D)  (None, 149, 149, 5)  0           conv2d_9[0][0]                   \n",
      "__________________________________________________________________________________________________\n",
      "conv2d_10 (Conv2D)              (None, 148, 148, 15) 315         max_pooling2d_9[0][0]            \n",
      "__________________________________________________________________________________________________\n",
      "A1 (InputLayer)                 (None, 311)          0                                            \n",
      "__________________________________________________________________________________________________\n",
      "B1 (InputLayer)                 (None, 300)          0                                            \n",
      "__________________________________________________________________________________________________\n",
      "max_pooling2d_10 (MaxPooling2D) (None, 74, 74, 15)   0           conv2d_10[0][0]                  \n",
      "__________________________________________________________________________________________________\n",
      "A2 (Dense)                      (None, 512)          159744      A1[0][0]                         \n",
      "__________________________________________________________________________________________________\n",
      "B2 (Dense)                      (None, 256)          77056       B1[0][0]                         \n",
      "__________________________________________________________________________________________________\n",
      "flatten_5 (Flatten)             (None, 82140)        0           max_pooling2d_10[0][0]           \n",
      "__________________________________________________________________________________________________\n",
      "A3 (Dense)                      (None, 512)          262656      A2[0][0]                         \n",
      "__________________________________________________________________________________________________\n",
      "B3 (Dense)                      (None, 64)           16448       B2[0][0]                         \n",
      "__________________________________________________________________________________________________\n",
      "E7 (Dense)                      (None, 160)          13142560    flatten_5[0][0]                  \n",
      "__________________________________________________________________________________________________\n",
      "concatenate_5 (Concatenate)     (None, 736)          0           A3[0][0]                         \n",
      "                                                                 B3[0][0]                         \n",
      "                                                                 E7[0][0]                         \n",
      "__________________________________________________________________________________________________\n",
      "C1 (Dense)                      (None, 480)          353760      concatenate_5[0][0]              \n",
      "__________________________________________________________________________________________________\n",
      "C2 (Dense)                      (None, 160)          76960       C1[0][0]                         \n",
      "__________________________________________________________________________________________________\n",
      "C3 (Dense)                      (None, 160)          25760       C2[0][0]                         \n",
      "__________________________________________________________________________________________________\n",
      "C4 (Dense)                      (None, 1)            161         C3[0][0]                         \n",
      "==================================================================================================\n",
      "Total params: 14,115,560\n",
      "Trainable params: 14,115,560\n",
      "Non-trainable params: 0\n",
      "__________________________________________________________________________________________________\n"
     ]
    }
   ],
   "source": [
    "early_stopping_monitor = EarlyStopping(patience=2)\n",
    "A1 = Input(shape=(311,),name='A1')\n",
    "A2 = Dense(512, activation='relu',name='A2')(A1)\n",
    "A3 = Dense(512, activation='relu',name='A3')(A2)\n",
    "A4 = Dense(512, activation='relu',name='A4')(A3)\n",
    "A5 = Dense(256, activation='relu',name='A5')(A4)\n",
    "\n",
    "\n",
    "B1 = Input(shape=(300,),name='B1')\n",
    "B2 = Dense(256, activation='relu',name='B2')(B1)\n",
    "B3 = Dense(64, activation='relu',name='B3')(B2)\n",
    "\n",
    "\n",
    "E1 = Input(shape=(300,300,3),name='E1')\n",
    "E2 = Conv2D(5, kernel_size=3, activation='relu', \n",
    "              input_shape=(300, 300, 3),\n",
    "              padding = 'valid',\n",
    "              strides = 1,)(E1)\n",
    "E3 = MaxPool2D(2)(E2)\n",
    "E4 = Conv2D(15, kernel_size=2, activation='relu')(E3)\n",
    "E5 = MaxPool2D(2)(E4)\n",
    "E6 = Flatten()(E5)\n",
    "E7 = Dense(160, activation='relu',name='E7')(E6)\n",
    "\n",
    "\n",
    "merged = Concatenate()([A3,B3,E7])\n",
    "C1 = Dense(480, activation='relu',name='C1')(merged)\n",
    "\n",
    "C2 = Dense(160, activation='relu',name='C2')(C1)\n",
    "\n",
    "C3 = Dense(160, activation='relu',name='C3')(C2)\n",
    "C4 = Dense(1, activation='sigmoid',name='C4')(C3)\n",
    "model = Model(inputs=[A1,B1,E1],outputs = C4)\n",
    "model.compile(loss='binary_crossentropy',optimizer='adam',metrics=['accuracy'])\n",
    "model.summary()"
   ]
  },
  {
   "cell_type": "code",
   "execution_count": null,
   "metadata": {},
   "outputs": [],
   "source": [
    "training = model.fit([X_train,d2v_train,img_train], y_train, epochs=20, batch_size=None, validation_split=0.1, \n",
    "          verbose=True, callbacks = [early_stopping_monitor]) "
   ]
  },
  {
   "cell_type": "code",
   "execution_count": null,
   "metadata": {},
   "outputs": [],
   "source": [
    "model.evaluate([X_test,d2v_test,img_test], y_test)"
   ]
  }
 ],
 "metadata": {
  "kernelspec": {
   "display_name": "Python 3",
   "language": "python",
   "name": "python3"
  },
  "language_info": {
   "codemirror_mode": {
    "name": "ipython",
    "version": 3
   },
   "file_extension": ".py",
   "mimetype": "text/x-python",
   "name": "python",
   "nbconvert_exporter": "python",
   "pygments_lexer": "ipython3",
   "version": "3.7.3"
  }
 },
 "nbformat": 4,
 "nbformat_minor": 2
}
