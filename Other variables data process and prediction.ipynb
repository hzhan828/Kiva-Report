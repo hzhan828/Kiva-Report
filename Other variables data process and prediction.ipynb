{
 "cells": [
  {
   "cell_type": "markdown",
   "metadata": {},
   "source": [
    "# Other variables only & Other variables + Word2vec mean/Doc2vec"
   ]
  },
  {
   "cell_type": "markdown",
   "metadata": {},
   "source": [
    "# Other variables data clean."
   ]
  },
  {
   "cell_type": "code",
   "execution_count": 47,
   "metadata": {},
   "outputs": [],
   "source": [
    "import numpy as np\n",
    "import pandas as pd\n",
    "from sklearn.linear_model import LinearRegression, Ridge, Lasso, RidgeCV\n",
    "from sklearn.linear_model import LogisticRegression\n",
    "\n",
    "from sklearn.ensemble import RandomForestClassifier\n",
    "import matplotlib.pyplot as plt\n",
    "#from keras.models import Sequential\n",
    "#from keras.layers import Dense\n",
    "#from keras.wrappers.scikit_learn import KerasRegressor\n",
    "from sklearn.model_selection import train_test_split, cross_val_score, KFold\n",
    "from sklearn.preprocessing import normalize, StandardScaler, PolynomialFeatures\n",
    "from sklearn.pipeline import Pipeline\n",
    "from sklearn.model_selection import GridSearchCV\n",
    "\n",
    "from imblearn.under_sampling import RandomUnderSampler\n",
    "from numpy.linalg import svd"
   ]
  },
  {
   "cell_type": "code",
   "execution_count": 3,
   "metadata": {},
   "outputs": [],
   "source": [
    "loans = pd.read_csv('/Users/zhanhaochen/Desktop/STA160/kiva_ds_csv/loans.csv',skiprows=6)"
   ]
  },
  {
   "cell_type": "code",
   "execution_count": 4,
   "metadata": {},
   "outputs": [
    {
     "data": {
      "text/html": [
       "<div>\n",
       "<style scoped>\n",
       "    .dataframe tbody tr th:only-of-type {\n",
       "        vertical-align: middle;\n",
       "    }\n",
       "\n",
       "    .dataframe tbody tr th {\n",
       "        vertical-align: top;\n",
       "    }\n",
       "\n",
       "    .dataframe thead th {\n",
       "        text-align: right;\n",
       "    }\n",
       "</style>\n",
       "<table border=\"1\" class=\"dataframe\">\n",
       "  <thead>\n",
       "    <tr style=\"text-align: right;\">\n",
       "      <th></th>\n",
       "      <th>LOAN_ID</th>\n",
       "      <th>LOAN_NAME</th>\n",
       "      <th>ORIGINAL_LANGUAGE</th>\n",
       "      <th>DESCRIPTION</th>\n",
       "      <th>DESCRIPTION_TRANSLATED</th>\n",
       "      <th>FUNDED_AMOUNT</th>\n",
       "      <th>LOAN_AMOUNT</th>\n",
       "      <th>STATUS</th>\n",
       "      <th>IMAGE_ID</th>\n",
       "      <th>VIDEO_ID</th>\n",
       "      <th>...</th>\n",
       "      <th>LENDER_TERM</th>\n",
       "      <th>NUM_LENDERS_TOTAL</th>\n",
       "      <th>NUM_JOURNAL_ENTRIES</th>\n",
       "      <th>NUM_BULK_ENTRIES</th>\n",
       "      <th>TAGS</th>\n",
       "      <th>BORROWER_NAMES</th>\n",
       "      <th>BORROWER_GENDERS</th>\n",
       "      <th>BORROWER_PICTURED</th>\n",
       "      <th>REPAYMENT_INTERVAL</th>\n",
       "      <th>DISTRIBUTION_MODEL</th>\n",
       "    </tr>\n",
       "  </thead>\n",
       "  <tbody>\n",
       "    <tr>\n",
       "      <th>0</th>\n",
       "      <td>109156</td>\n",
       "      <td>Afolabi</td>\n",
       "      <td>English</td>\n",
       "      <td>Afolabi O. is 35 years old and single. He sell...</td>\n",
       "      <td>NaN</td>\n",
       "      <td>550.0</td>\n",
       "      <td>550.0</td>\n",
       "      <td>funded</td>\n",
       "      <td>321370.0</td>\n",
       "      <td>NaN</td>\n",
       "      <td>...</td>\n",
       "      <td>10.0</td>\n",
       "      <td>20</td>\n",
       "      <td>1</td>\n",
       "      <td>1</td>\n",
       "      <td>NaN</td>\n",
       "      <td>Afolabi</td>\n",
       "      <td>male</td>\n",
       "      <td>true</td>\n",
       "      <td>monthly</td>\n",
       "      <td>field_partner</td>\n",
       "    </tr>\n",
       "    <tr>\n",
       "      <th>1</th>\n",
       "      <td>109347</td>\n",
       "      <td>Laura</td>\n",
       "      <td>Spanish</td>\n",
       "      <td>Z. es socia del Banco Comunal Virgen Maria.\\nZ...</td>\n",
       "      <td>Z. is a member of Virgen Maria comunal bank.  ...</td>\n",
       "      <td>550.0</td>\n",
       "      <td>550.0</td>\n",
       "      <td>funded</td>\n",
       "      <td>321669.0</td>\n",
       "      <td>NaN</td>\n",
       "      <td>...</td>\n",
       "      <td>6.0</td>\n",
       "      <td>18</td>\n",
       "      <td>1</td>\n",
       "      <td>1</td>\n",
       "      <td>NaN</td>\n",
       "      <td>Laura</td>\n",
       "      <td>female</td>\n",
       "      <td>true</td>\n",
       "      <td>monthly</td>\n",
       "      <td>field_partner</td>\n",
       "    </tr>\n",
       "    <tr>\n",
       "      <th>2</th>\n",
       "      <td>109490</td>\n",
       "      <td>Betania IV-B Group</td>\n",
       "      <td>English</td>\n",
       "      <td>Betania IV-B is a group of 10 farmers living i...</td>\n",
       "      <td>NaN</td>\n",
       "      <td>3150.0</td>\n",
       "      <td>3150.0</td>\n",
       "      <td>funded</td>\n",
       "      <td>319693.0</td>\n",
       "      <td>NaN</td>\n",
       "      <td>...</td>\n",
       "      <td>14.0</td>\n",
       "      <td>87</td>\n",
       "      <td>4</td>\n",
       "      <td>3</td>\n",
       "      <td>NaN</td>\n",
       "      <td>Henderina, Margen, Dominggus, Efni, Elias, Fra...</td>\n",
       "      <td>female, male, male, male, male, female, male, ...</td>\n",
       "      <td>true, true, false, true, true, true, true, fal...</td>\n",
       "      <td>bullet</td>\n",
       "      <td>field_partner</td>\n",
       "    </tr>\n",
       "    <tr>\n",
       "      <th>3</th>\n",
       "      <td>109570</td>\n",
       "      <td>Ajka</td>\n",
       "      <td>English</td>\n",
       "      <td>Ajka comes from a suburb of the town of Banovi...</td>\n",
       "      <td>NaN</td>\n",
       "      <td>575.0</td>\n",
       "      <td>575.0</td>\n",
       "      <td>funded</td>\n",
       "      <td>322148.0</td>\n",
       "      <td>NaN</td>\n",
       "      <td>...</td>\n",
       "      <td>15.0</td>\n",
       "      <td>22</td>\n",
       "      <td>1</td>\n",
       "      <td>1</td>\n",
       "      <td>NaN</td>\n",
       "      <td>Ajka</td>\n",
       "      <td>female</td>\n",
       "      <td>true</td>\n",
       "      <td>monthly</td>\n",
       "      <td>field_partner</td>\n",
       "    </tr>\n",
       "    <tr>\n",
       "      <th>4</th>\n",
       "      <td>109819</td>\n",
       "      <td>Maria Salome</td>\n",
       "      <td>Spanish</td>\n",
       "      <td>La señora Salome pertenece al Banco Comunal “R...</td>\n",
       "      <td>Señora Salome is a member of the Banco Comunal...</td>\n",
       "      <td>500.0</td>\n",
       "      <td>500.0</td>\n",
       "      <td>funded</td>\n",
       "      <td>320794.0</td>\n",
       "      <td>NaN</td>\n",
       "      <td>...</td>\n",
       "      <td>7.0</td>\n",
       "      <td>18</td>\n",
       "      <td>1</td>\n",
       "      <td>1</td>\n",
       "      <td>NaN</td>\n",
       "      <td>Maria Salome</td>\n",
       "      <td>female</td>\n",
       "      <td>true</td>\n",
       "      <td>irregular</td>\n",
       "      <td>field_partner</td>\n",
       "    </tr>\n",
       "  </tbody>\n",
       "</table>\n",
       "<p>5 rows × 34 columns</p>\n",
       "</div>"
      ],
      "text/plain": [
       "   LOAN_ID           LOAN_NAME ORIGINAL_LANGUAGE  \\\n",
       "0   109156             Afolabi           English   \n",
       "1   109347               Laura           Spanish   \n",
       "2   109490  Betania IV-B Group           English   \n",
       "3   109570                Ajka           English   \n",
       "4   109819        Maria Salome           Spanish   \n",
       "\n",
       "                                         DESCRIPTION  \\\n",
       "0  Afolabi O. is 35 years old and single. He sell...   \n",
       "1  Z. es socia del Banco Comunal Virgen Maria.\\nZ...   \n",
       "2  Betania IV-B is a group of 10 farmers living i...   \n",
       "3  Ajka comes from a suburb of the town of Banovi...   \n",
       "4  La señora Salome pertenece al Banco Comunal “R...   \n",
       "\n",
       "                              DESCRIPTION_TRANSLATED  FUNDED_AMOUNT  \\\n",
       "0                                                NaN          550.0   \n",
       "1  Z. is a member of Virgen Maria comunal bank.  ...          550.0   \n",
       "2                                                NaN         3150.0   \n",
       "3                                                NaN          575.0   \n",
       "4  Señora Salome is a member of the Banco Comunal...          500.0   \n",
       "\n",
       "   LOAN_AMOUNT  STATUS  IMAGE_ID  VIDEO_ID  ... LENDER_TERM NUM_LENDERS_TOTAL  \\\n",
       "0        550.0  funded  321370.0       NaN  ...        10.0                20   \n",
       "1        550.0  funded  321669.0       NaN  ...         6.0                18   \n",
       "2       3150.0  funded  319693.0       NaN  ...        14.0                87   \n",
       "3        575.0  funded  322148.0       NaN  ...        15.0                22   \n",
       "4        500.0  funded  320794.0       NaN  ...         7.0                18   \n",
       "\n",
       "  NUM_JOURNAL_ENTRIES NUM_BULK_ENTRIES TAGS  \\\n",
       "0                   1                1  NaN   \n",
       "1                   1                1  NaN   \n",
       "2                   4                3  NaN   \n",
       "3                   1                1  NaN   \n",
       "4                   1                1  NaN   \n",
       "\n",
       "                                      BORROWER_NAMES  \\\n",
       "0                                            Afolabi   \n",
       "1                                              Laura   \n",
       "2  Henderina, Margen, Dominggus, Efni, Elias, Fra...   \n",
       "3                                               Ajka   \n",
       "4                                       Maria Salome   \n",
       "\n",
       "                                    BORROWER_GENDERS  \\\n",
       "0                                               male   \n",
       "1                                             female   \n",
       "2  female, male, male, male, male, female, male, ...   \n",
       "3                                             female   \n",
       "4                                             female   \n",
       "\n",
       "                                   BORROWER_PICTURED REPAYMENT_INTERVAL  \\\n",
       "0                                               true            monthly   \n",
       "1                                               true            monthly   \n",
       "2  true, true, false, true, true, true, true, fal...             bullet   \n",
       "3                                               true            monthly   \n",
       "4                                               true          irregular   \n",
       "\n",
       "   DISTRIBUTION_MODEL  \n",
       "0       field_partner  \n",
       "1       field_partner  \n",
       "2       field_partner  \n",
       "3       field_partner  \n",
       "4       field_partner  \n",
       "\n",
       "[5 rows x 34 columns]"
      ]
     },
     "execution_count": 4,
     "metadata": {},
     "output_type": "execute_result"
    }
   ],
   "source": [
    "loans.head()"
   ]
  },
  {
   "cell_type": "code",
   "execution_count": 9,
   "metadata": {},
   "outputs": [
    {
     "data": {
      "text/plain": [
       "Index(['LOAN_ID', 'LOAN_NAME', 'ORIGINAL_LANGUAGE', 'DESCRIPTION',\n",
       "       'DESCRIPTION_TRANSLATED', 'FUNDED_AMOUNT', 'LOAN_AMOUNT', 'STATUS',\n",
       "       'IMAGE_ID', 'VIDEO_ID', 'ACTIVITY_NAME', 'SECTOR_NAME', 'LOAN_USE',\n",
       "       'COUNTRY_CODE', 'COUNTRY_NAME', 'TOWN_NAME', 'CURRENCY_POLICY',\n",
       "       'CURRENCY_EXCHANGE_COVERAGE_RATE', 'CURRENCY', 'PARTNER_ID',\n",
       "       'POSTED_TIME', 'PLANNED_EXPIRATION_TIME', 'DISBURSE_TIME',\n",
       "       'RAISED_TIME', 'LENDER_TERM', 'NUM_LENDERS_TOTAL',\n",
       "       'NUM_JOURNAL_ENTRIES', 'NUM_BULK_ENTRIES', 'TAGS', 'BORROWER_NAMES',\n",
       "       'BORROWER_GENDERS', 'BORROWER_PICTURED', 'REPAYMENT_INTERVAL',\n",
       "       'DISTRIBUTION_MODEL'],\n",
       "      dtype='object')"
      ]
     },
     "execution_count": 9,
     "metadata": {},
     "output_type": "execute_result"
    }
   ],
   "source": [
    "loans.columns"
   ]
  },
  {
   "cell_type": "code",
   "execution_count": 126,
   "metadata": {},
   "outputs": [
    {
     "data": {
      "text/plain": [
       "(1682790, 34)"
      ]
     },
     "execution_count": 126,
     "metadata": {},
     "output_type": "execute_result"
    }
   ],
   "source": [
    "loans.shape"
   ]
  },
  {
   "cell_type": "markdown",
   "metadata": {},
   "source": [
    "#### Loan Information\n",
    "LOAN_ID *, LOAN_NAME *ACTIVITY_NAME : ONEHOT, SECTOR_NAME *\n",
    "#### Partner Information\n",
    "PARTNER_ID * <br />\n",
    "#### Lender Information\n",
    "NUM_LENDERS_TOTAL : NUMERIC, NUM_JOURNAL_ENTRIES : NUMERIC, NUM_BULK_ENTRIES : NUMERIC\n",
    "#### Borrower Information\n",
    "BORROWER_NAMES *, BORROWER_GENDERS : MALE/FEMALE, BORROWER_PICTURED *\n",
    "#### Natural Language Processing\n",
    "ORIGINAL_LANGUAGE, DESCRIPTION, DESCRIPTION_TRANSLATED, LOAN_USE\n",
    "#### Funded Information\n",
    "FUNDED_AMOUNT *, LOAN_AMOUNT *, STATUS : RESPONSE\n",
    "#### Computer Vision\n",
    "IMAGE_ID, VIDEO_ID\n",
    "#### Time\n",
    "POSTED_TIME, PLANNED_EXPIRATION_TIME, DISBURSE_TIME, RAISED_TIME, LENDER_TERM\n",
    "#### Place\n",
    "COUNTRY_CODE *, COUNTRY_NAME, TOWN_NAME *, CURRENCY_POLICY : BINARY, CURRENCY_EXCHANGE_COVERAGE_RATE\n",
    "#### Other Variable\n",
    "TAGS : ONEHOT, REPAYMENT_INTERVAL : BULLET/IRREGULAR/MONTHLY/WEEKLY, DISTRIBUTION_MODEL : BINARY"
   ]
  },
  {
   "cell_type": "code",
   "execution_count": 6,
   "metadata": {},
   "outputs": [],
   "source": [
    "down = pd.read_csv('/Users/zhanhaochen/Desktop/STA160/down.csv')"
   ]
  },
  {
   "cell_type": "code",
   "execution_count": 7,
   "metadata": {},
   "outputs": [
    {
     "data": {
      "text/html": [
       "<div>\n",
       "<style scoped>\n",
       "    .dataframe tbody tr th:only-of-type {\n",
       "        vertical-align: middle;\n",
       "    }\n",
       "\n",
       "    .dataframe tbody tr th {\n",
       "        vertical-align: top;\n",
       "    }\n",
       "\n",
       "    .dataframe thead th {\n",
       "        text-align: right;\n",
       "    }\n",
       "</style>\n",
       "<table border=\"1\" class=\"dataframe\">\n",
       "  <thead>\n",
       "    <tr style=\"text-align: right;\">\n",
       "      <th></th>\n",
       "      <th>Unnamed: 0</th>\n",
       "      <th>index</th>\n",
       "      <th>loan_amount</th>\n",
       "      <th>original_language</th>\n",
       "      <th>description</th>\n",
       "      <th>activity_name</th>\n",
       "      <th>sector_name</th>\n",
       "      <th>country_name</th>\n",
       "      <th>town_name</th>\n",
       "      <th>status</th>\n",
       "      <th>id</th>\n",
       "      <th>posted_time</th>\n",
       "      <th>description_length</th>\n",
       "      <th>currency_policy</th>\n",
       "      <th>num_lenders_total</th>\n",
       "    </tr>\n",
       "  </thead>\n",
       "  <tbody>\n",
       "    <tr>\n",
       "      <th>0</th>\n",
       "      <td>0</td>\n",
       "      <td>27</td>\n",
       "      <td>4475.0</td>\n",
       "      <td>Russian</td>\n",
       "      <td>Vitaliy lives in the city of Melitopol. He is ...</td>\n",
       "      <td>Personal Housing Expenses</td>\n",
       "      <td>Housing</td>\n",
       "      <td>Ukraine</td>\n",
       "      <td>Melitopol</td>\n",
       "      <td>expired</td>\n",
       "      <td>1470603</td>\n",
       "      <td>2018-02-16 13:57:59.000 +0000</td>\n",
       "      <td>420</td>\n",
       "      <td>shared</td>\n",
       "      <td>73</td>\n",
       "    </tr>\n",
       "    <tr>\n",
       "      <th>1</th>\n",
       "      <td>1</td>\n",
       "      <td>44</td>\n",
       "      <td>1200.0</td>\n",
       "      <td>English</td>\n",
       "      <td>Youn, 34, lives with family members in a rural...</td>\n",
       "      <td>Farming</td>\n",
       "      <td>Agriculture</td>\n",
       "      <td>Cambodia</td>\n",
       "      <td>Ratanakiri province, Borkeo district</td>\n",
       "      <td>expired</td>\n",
       "      <td>1514939</td>\n",
       "      <td>2018-04-23 09:20:53.000 +0000</td>\n",
       "      <td>708</td>\n",
       "      <td>shared</td>\n",
       "      <td>10</td>\n",
       "    </tr>\n",
       "    <tr>\n",
       "      <th>2</th>\n",
       "      <td>2</td>\n",
       "      <td>77</td>\n",
       "      <td>1150.0</td>\n",
       "      <td>English</td>\n",
       "      <td>Living in a rural area of Battambang province,...</td>\n",
       "      <td>Farming</td>\n",
       "      <td>Agriculture</td>\n",
       "      <td>Cambodia</td>\n",
       "      <td>Battambang province, Ratanak Mondul district</td>\n",
       "      <td>expired</td>\n",
       "      <td>1513542</td>\n",
       "      <td>2018-04-20 10:11:29.000 +0000</td>\n",
       "      <td>608</td>\n",
       "      <td>shared</td>\n",
       "      <td>10</td>\n",
       "    </tr>\n",
       "    <tr>\n",
       "      <th>3</th>\n",
       "      <td>3</td>\n",
       "      <td>113</td>\n",
       "      <td>1200.0</td>\n",
       "      <td>English</td>\n",
       "      <td>Lilia, 57, lives in Danao, Plaridel, Misamis O...</td>\n",
       "      <td>Fish Selling</td>\n",
       "      <td>Food</td>\n",
       "      <td>Philippines</td>\n",
       "      <td>Plaridel-Danao</td>\n",
       "      <td>expired</td>\n",
       "      <td>446946</td>\n",
       "      <td>2012-07-05 06:12:24.000 +0000</td>\n",
       "      <td>298</td>\n",
       "      <td>shared</td>\n",
       "      <td>25</td>\n",
       "    </tr>\n",
       "    <tr>\n",
       "      <th>4</th>\n",
       "      <td>4</td>\n",
       "      <td>121</td>\n",
       "      <td>300.0</td>\n",
       "      <td>English</td>\n",
       "      <td>Melane is 32 years old and married with three ...</td>\n",
       "      <td>General Store</td>\n",
       "      <td>Retail</td>\n",
       "      <td>Philippines</td>\n",
       "      <td>Banga, Aklan</td>\n",
       "      <td>expired</td>\n",
       "      <td>1644432</td>\n",
       "      <td>2018-11-12 06:12:43.000 +0000</td>\n",
       "      <td>321</td>\n",
       "      <td>shared</td>\n",
       "      <td>5</td>\n",
       "    </tr>\n",
       "  </tbody>\n",
       "</table>\n",
       "</div>"
      ],
      "text/plain": [
       "   Unnamed: 0  index  loan_amount original_language  \\\n",
       "0           0     27       4475.0           Russian   \n",
       "1           1     44       1200.0           English   \n",
       "2           2     77       1150.0           English   \n",
       "3           3    113       1200.0           English   \n",
       "4           4    121        300.0           English   \n",
       "\n",
       "                                         description  \\\n",
       "0  Vitaliy lives in the city of Melitopol. He is ...   \n",
       "1  Youn, 34, lives with family members in a rural...   \n",
       "2  Living in a rural area of Battambang province,...   \n",
       "3  Lilia, 57, lives in Danao, Plaridel, Misamis O...   \n",
       "4  Melane is 32 years old and married with three ...   \n",
       "\n",
       "               activity_name  sector_name country_name  \\\n",
       "0  Personal Housing Expenses      Housing      Ukraine   \n",
       "1                    Farming  Agriculture     Cambodia   \n",
       "2                    Farming  Agriculture     Cambodia   \n",
       "3               Fish Selling         Food  Philippines   \n",
       "4              General Store       Retail  Philippines   \n",
       "\n",
       "                                      town_name   status       id  \\\n",
       "0                                     Melitopol  expired  1470603   \n",
       "1          Ratanakiri province, Borkeo district  expired  1514939   \n",
       "2  Battambang province, Ratanak Mondul district  expired  1513542   \n",
       "3                                Plaridel-Danao  expired   446946   \n",
       "4                                  Banga, Aklan  expired  1644432   \n",
       "\n",
       "                     posted_time  description_length currency_policy  \\\n",
       "0  2018-02-16 13:57:59.000 +0000                 420          shared   \n",
       "1  2018-04-23 09:20:53.000 +0000                 708          shared   \n",
       "2  2018-04-20 10:11:29.000 +0000                 608          shared   \n",
       "3  2012-07-05 06:12:24.000 +0000                 298          shared   \n",
       "4  2018-11-12 06:12:43.000 +0000                 321          shared   \n",
       "\n",
       "   num_lenders_total  \n",
       "0                 73  \n",
       "1                 10  \n",
       "2                 10  \n",
       "3                 25  \n",
       "4                  5  "
      ]
     },
     "execution_count": 7,
     "metadata": {},
     "output_type": "execute_result"
    }
   ],
   "source": [
    "down.head()"
   ]
  },
  {
   "cell_type": "code",
   "execution_count": 146,
   "metadata": {},
   "outputs": [],
   "source": [
    "# initialize\n",
    "X = []"
   ]
  },
  {
   "cell_type": "markdown",
   "metadata": {},
   "source": [
    "## Loan Information"
   ]
  },
  {
   "cell_type": "markdown",
   "metadata": {},
   "source": [
    "#### ACTIVITY_NAME"
   ]
  },
  {
   "cell_type": "code",
   "execution_count": 147,
   "metadata": {},
   "outputs": [],
   "source": [
    "# get dummies\n",
    "ACTIVITY_NAME = pd.get_dummies(loans['ACTIVITY_NAME'])"
   ]
  },
  {
   "cell_type": "code",
   "execution_count": 148,
   "metadata": {},
   "outputs": [],
   "source": [
    "# append\n",
    "X.append(ACTIVITY_NAME)"
   ]
  },
  {
   "cell_type": "markdown",
   "metadata": {},
   "source": [
    "#### LOAN_AMOUNT"
   ]
  },
  {
   "cell_type": "code",
   "execution_count": 149,
   "metadata": {},
   "outputs": [],
   "source": [
    "X.append(loans['LOAN_AMOUNT'])"
   ]
  },
  {
   "cell_type": "markdown",
   "metadata": {},
   "source": [
    "## Lender Information"
   ]
  },
  {
   "cell_type": "code",
   "execution_count": 150,
   "metadata": {},
   "outputs": [],
   "source": [
    "# append #try not to consider it\n",
    "X.append(loans[[\"NUM_LENDERS_TOTAL\"]])"
   ]
  },
  {
   "cell_type": "markdown",
   "metadata": {},
   "source": [
    "## Borrower Information"
   ]
  },
  {
   "cell_type": "markdown",
   "metadata": {},
   "source": [
    "#### BORROWER_GENDERS"
   ]
  },
  {
   "cell_type": "code",
   "execution_count": 151,
   "metadata": {},
   "outputs": [],
   "source": [
    "# count freq\n",
    "male = []\n",
    "female = []\n",
    "for i in loans['BORROWER_GENDERS']:\n",
    "    if type(i) == str:\n",
    "        temp = str(', ' + i).split(', ')[1:]\n",
    "        male.append(temp.count('male'))\n",
    "        female.append(temp.count('female'))\n",
    "    else:\n",
    "        male.append(0)\n",
    "        female.append(0)\n",
    "# merge dataframe\n",
    "BORROWER_GENDERS = pd.DataFrame({'MALE':male,'FEMALE':female})"
   ]
  },
  {
   "cell_type": "code",
   "execution_count": 152,
   "metadata": {},
   "outputs": [],
   "source": [
    "# append\n",
    "X.append(BORROWER_GENDERS)"
   ]
  },
  {
   "cell_type": "markdown",
   "metadata": {},
   "source": [
    "## Natural Language Processing"
   ]
  },
  {
   "cell_type": "markdown",
   "metadata": {},
   "source": [
    "## Place"
   ]
  },
  {
   "cell_type": "markdown",
   "metadata": {},
   "source": [
    "#### COUNTRY_NAME"
   ]
  },
  {
   "cell_type": "code",
   "execution_count": 129,
   "metadata": {},
   "outputs": [],
   "source": [
    "# get dummies\n",
    "COUNTRY_NAME = pd.get_dummies(loans['COUNTRY_NAME'])"
   ]
  },
  {
   "cell_type": "code",
   "execution_count": 153,
   "metadata": {},
   "outputs": [],
   "source": [
    "# append\n",
    "X.append(COUNTRY_NAME)"
   ]
  },
  {
   "cell_type": "markdown",
   "metadata": {},
   "source": [
    "#### CURRENCY_POLICY"
   ]
  },
  {
   "cell_type": "code",
   "execution_count": 131,
   "metadata": {},
   "outputs": [],
   "source": [
    "# binary\n",
    "CURRENCY_POLICY = pd.DataFrame({'CURRENCY_POLICY':loans['CURRENCY_POLICY'] == 'shared'})"
   ]
  },
  {
   "cell_type": "code",
   "execution_count": 154,
   "metadata": {},
   "outputs": [],
   "source": [
    "# append\n",
    "X.append(CURRENCY_POLICY)"
   ]
  },
  {
   "cell_type": "markdown",
   "metadata": {},
   "source": [
    "#### CURRENCY_EXCHANGE_COVERAGE_RATE"
   ]
  },
  {
   "cell_type": "code",
   "execution_count": 133,
   "metadata": {},
   "outputs": [],
   "source": [
    "# fill na\n",
    "CURRENCY_EXCHANGE_COVERAGE_RATE = loans['CURRENCY_EXCHANGE_COVERAGE_RATE'].fillna(0)"
   ]
  },
  {
   "cell_type": "code",
   "execution_count": 155,
   "metadata": {},
   "outputs": [],
   "source": [
    "# append\n",
    "X.append(CURRENCY_EXCHANGE_COVERAGE_RATE)"
   ]
  },
  {
   "cell_type": "code",
   "execution_count": 148,
   "metadata": {},
   "outputs": [
    {
     "data": {
      "text/plain": [
       "(1682790,)"
      ]
     },
     "execution_count": 148,
     "metadata": {},
     "output_type": "execute_result"
    }
   ],
   "source": [
    "X[4].shape"
   ]
  },
  {
   "cell_type": "markdown",
   "metadata": {},
   "source": [
    "## Other Variables"
   ]
  },
  {
   "cell_type": "markdown",
   "metadata": {},
   "source": [
    "#### TAGS"
   ]
  },
  {
   "cell_type": "code",
   "execution_count": 135,
   "metadata": {},
   "outputs": [],
   "source": [
    "# split tags\n",
    "TAGS_SPLIT = []\n",
    "for i in loans['TAGS']:\n",
    "    if type(i)==str:\n",
    "        j = ',' + i\n",
    "        j = j[1:]\n",
    "        TAGS_SPLIT.append(j.split(', '))\n",
    "    else:\n",
    "        TAGS_SPLIT.append(None)\n",
    "# set of tags\n",
    "TAGS_SET = list()\n",
    "for i in TAGS_SPLIT:\n",
    "    if i:\n",
    "        for j in i:\n",
    "            if j not in TAGS_SET:\n",
    "                TAGS_SET.append(j)\n",
    "# binarize tags\n",
    "TAGS_DICT = {i: [] for i in TAGS_SET}\n",
    "for i in TAGS_SPLIT:\n",
    "    for j in TAGS_DICT.keys():\n",
    "        if i:\n",
    "            if j in i:\n",
    "                TAGS_DICT[j].append(1)\n",
    "            else:\n",
    "                TAGS_DICT[j].append(0)\n",
    "        else:\n",
    "            TAGS_DICT[j].append(0)\n",
    "# merge dataframe\n",
    "TAGS = pd.DataFrame(TAGS_DICT)"
   ]
  },
  {
   "cell_type": "code",
   "execution_count": 156,
   "metadata": {},
   "outputs": [],
   "source": [
    "# append\n",
    "X.append(TAGS)"
   ]
  },
  {
   "cell_type": "markdown",
   "metadata": {},
   "source": [
    "#### REPAYMENT_INTERVAL"
   ]
  },
  {
   "cell_type": "code",
   "execution_count": 137,
   "metadata": {},
   "outputs": [],
   "source": [
    "# get dummies\n",
    "REPAYMENT_INTERVAL = pd.get_dummies(loans['REPAYMENT_INTERVAL'])"
   ]
  },
  {
   "cell_type": "code",
   "execution_count": 157,
   "metadata": {},
   "outputs": [],
   "source": [
    "# append\n",
    "X.append(REPAYMENT_INTERVAL)"
   ]
  },
  {
   "cell_type": "markdown",
   "metadata": {},
   "source": [
    "#### DISTRIBUTION_MODEL"
   ]
  },
  {
   "cell_type": "code",
   "execution_count": 139,
   "metadata": {},
   "outputs": [],
   "source": [
    "# binary\n",
    "DISTRIBUTION_MODEL = pd.DataFrame({'DISTRIBUTION_MODEL':loans['DISTRIBUTION_MODEL'] == 'field_partner'})"
   ]
  },
  {
   "cell_type": "code",
   "execution_count": 158,
   "metadata": {},
   "outputs": [],
   "source": [
    "# append\n",
    "X.append(DISTRIBUTION_MODEL)"
   ]
  },
  {
   "cell_type": "markdown",
   "metadata": {},
   "source": [
    "## Repsonse Value"
   ]
  },
  {
   "cell_type": "code",
   "execution_count": 159,
   "metadata": {},
   "outputs": [],
   "source": [
    "# append\n",
    "X.append(loans[\"STATUS\"])\n",
    "# concat\n",
    "X = pd.concat(X, axis = 1)"
   ]
  },
  {
   "cell_type": "code",
   "execution_count": 160,
   "metadata": {},
   "outputs": [],
   "source": [
    "X = X[X['STATUS'] != 'fundRaising']\n",
    "X = X[X['STATUS'] != 'refunded']\n",
    "y = pd.DataFrame({'STATUS': [int(i == 'funded') for i in X['STATUS']]})\n",
    "X = X.drop('STATUS', 1)"
   ]
  },
  {
   "cell_type": "code",
   "execution_count": 144,
   "metadata": {},
   "outputs": [
    {
     "data": {
      "text/html": [
       "<div>\n",
       "<style scoped>\n",
       "    .dataframe tbody tr th:only-of-type {\n",
       "        vertical-align: middle;\n",
       "    }\n",
       "\n",
       "    .dataframe tbody tr th {\n",
       "        vertical-align: top;\n",
       "    }\n",
       "\n",
       "    .dataframe thead th {\n",
       "        text-align: right;\n",
       "    }\n",
       "</style>\n",
       "<table border=\"1\" class=\"dataframe\">\n",
       "  <thead>\n",
       "    <tr style=\"text-align: right;\">\n",
       "      <th></th>\n",
       "      <th>Adult Care</th>\n",
       "      <th>Agriculture</th>\n",
       "      <th>Air Conditioning</th>\n",
       "      <th>Animal Sales</th>\n",
       "      <th>Aquaculture</th>\n",
       "      <th>Arts</th>\n",
       "      <th>Auto Repair</th>\n",
       "      <th>Bakery</th>\n",
       "      <th>Balut-Making</th>\n",
       "      <th>Barber Shop</th>\n",
       "      <th>...</th>\n",
       "      <th>#Team Guys Holding Fish</th>\n",
       "      <th>#US immigrant</th>\n",
       "      <th>#Powerful Story</th>\n",
       "      <th>#Married</th>\n",
       "      <th>user_like</th>\n",
       "      <th>#Pre-disbursed</th>\n",
       "      <th>bullet</th>\n",
       "      <th>irregular</th>\n",
       "      <th>monthly</th>\n",
       "      <th>DISTRIBUTION_MODEL</th>\n",
       "    </tr>\n",
       "  </thead>\n",
       "  <tbody>\n",
       "    <tr>\n",
       "      <th>0</th>\n",
       "      <td>0.0</td>\n",
       "      <td>0.0</td>\n",
       "      <td>0.0</td>\n",
       "      <td>0.0</td>\n",
       "      <td>0.0</td>\n",
       "      <td>0.0</td>\n",
       "      <td>0.0</td>\n",
       "      <td>0.0</td>\n",
       "      <td>0.0</td>\n",
       "      <td>0.0</td>\n",
       "      <td>...</td>\n",
       "      <td>0.0</td>\n",
       "      <td>0.0</td>\n",
       "      <td>0.0</td>\n",
       "      <td>0.0</td>\n",
       "      <td>0.0</td>\n",
       "      <td>0.0</td>\n",
       "      <td>0.0</td>\n",
       "      <td>0.0</td>\n",
       "      <td>1.0</td>\n",
       "      <td>True</td>\n",
       "    </tr>\n",
       "    <tr>\n",
       "      <th>1</th>\n",
       "      <td>0.0</td>\n",
       "      <td>0.0</td>\n",
       "      <td>0.0</td>\n",
       "      <td>0.0</td>\n",
       "      <td>0.0</td>\n",
       "      <td>0.0</td>\n",
       "      <td>0.0</td>\n",
       "      <td>0.0</td>\n",
       "      <td>0.0</td>\n",
       "      <td>0.0</td>\n",
       "      <td>...</td>\n",
       "      <td>0.0</td>\n",
       "      <td>0.0</td>\n",
       "      <td>0.0</td>\n",
       "      <td>0.0</td>\n",
       "      <td>0.0</td>\n",
       "      <td>0.0</td>\n",
       "      <td>0.0</td>\n",
       "      <td>0.0</td>\n",
       "      <td>1.0</td>\n",
       "      <td>True</td>\n",
       "    </tr>\n",
       "    <tr>\n",
       "      <th>2</th>\n",
       "      <td>0.0</td>\n",
       "      <td>0.0</td>\n",
       "      <td>0.0</td>\n",
       "      <td>0.0</td>\n",
       "      <td>0.0</td>\n",
       "      <td>0.0</td>\n",
       "      <td>0.0</td>\n",
       "      <td>0.0</td>\n",
       "      <td>0.0</td>\n",
       "      <td>0.0</td>\n",
       "      <td>...</td>\n",
       "      <td>0.0</td>\n",
       "      <td>0.0</td>\n",
       "      <td>0.0</td>\n",
       "      <td>0.0</td>\n",
       "      <td>0.0</td>\n",
       "      <td>0.0</td>\n",
       "      <td>1.0</td>\n",
       "      <td>0.0</td>\n",
       "      <td>0.0</td>\n",
       "      <td>True</td>\n",
       "    </tr>\n",
       "    <tr>\n",
       "      <th>3</th>\n",
       "      <td>0.0</td>\n",
       "      <td>0.0</td>\n",
       "      <td>0.0</td>\n",
       "      <td>0.0</td>\n",
       "      <td>0.0</td>\n",
       "      <td>0.0</td>\n",
       "      <td>0.0</td>\n",
       "      <td>0.0</td>\n",
       "      <td>0.0</td>\n",
       "      <td>0.0</td>\n",
       "      <td>...</td>\n",
       "      <td>0.0</td>\n",
       "      <td>0.0</td>\n",
       "      <td>0.0</td>\n",
       "      <td>0.0</td>\n",
       "      <td>0.0</td>\n",
       "      <td>0.0</td>\n",
       "      <td>0.0</td>\n",
       "      <td>0.0</td>\n",
       "      <td>1.0</td>\n",
       "      <td>True</td>\n",
       "    </tr>\n",
       "    <tr>\n",
       "      <th>4</th>\n",
       "      <td>0.0</td>\n",
       "      <td>0.0</td>\n",
       "      <td>0.0</td>\n",
       "      <td>0.0</td>\n",
       "      <td>0.0</td>\n",
       "      <td>0.0</td>\n",
       "      <td>0.0</td>\n",
       "      <td>0.0</td>\n",
       "      <td>0.0</td>\n",
       "      <td>0.0</td>\n",
       "      <td>...</td>\n",
       "      <td>0.0</td>\n",
       "      <td>0.0</td>\n",
       "      <td>0.0</td>\n",
       "      <td>0.0</td>\n",
       "      <td>0.0</td>\n",
       "      <td>0.0</td>\n",
       "      <td>0.0</td>\n",
       "      <td>1.0</td>\n",
       "      <td>0.0</td>\n",
       "      <td>True</td>\n",
       "    </tr>\n",
       "  </tbody>\n",
       "</table>\n",
       "<p>5 rows × 310 columns</p>\n",
       "</div>"
      ],
      "text/plain": [
       "   Adult Care  Agriculture  Air Conditioning  Animal Sales  Aquaculture  Arts  \\\n",
       "0         0.0          0.0               0.0           0.0          0.0   0.0   \n",
       "1         0.0          0.0               0.0           0.0          0.0   0.0   \n",
       "2         0.0          0.0               0.0           0.0          0.0   0.0   \n",
       "3         0.0          0.0               0.0           0.0          0.0   0.0   \n",
       "4         0.0          0.0               0.0           0.0          0.0   0.0   \n",
       "\n",
       "   Auto Repair  Bakery  Balut-Making  Barber Shop  ...  \\\n",
       "0          0.0     0.0           0.0          0.0  ...   \n",
       "1          0.0     0.0           0.0          0.0  ...   \n",
       "2          0.0     0.0           0.0          0.0  ...   \n",
       "3          0.0     0.0           0.0          0.0  ...   \n",
       "4          0.0     0.0           0.0          0.0  ...   \n",
       "\n",
       "   #Team Guys Holding Fish  #US immigrant  #Powerful Story  #Married  \\\n",
       "0                      0.0            0.0              0.0       0.0   \n",
       "1                      0.0            0.0              0.0       0.0   \n",
       "2                      0.0            0.0              0.0       0.0   \n",
       "3                      0.0            0.0              0.0       0.0   \n",
       "4                      0.0            0.0              0.0       0.0   \n",
       "\n",
       "   user_like  #Pre-disbursed  bullet  irregular  monthly  DISTRIBUTION_MODEL  \n",
       "0        0.0             0.0     0.0        0.0      1.0                True  \n",
       "1        0.0             0.0     0.0        0.0      1.0                True  \n",
       "2        0.0             0.0     1.0        0.0      0.0                True  \n",
       "3        0.0             0.0     0.0        0.0      1.0                True  \n",
       "4        0.0             0.0     0.0        1.0      0.0                True  \n",
       "\n",
       "[5 rows x 310 columns]"
      ]
     },
     "execution_count": 144,
     "metadata": {},
     "output_type": "execute_result"
    }
   ],
   "source": [
    "X.head()"
   ]
  },
  {
   "cell_type": "code",
   "execution_count": 77,
   "metadata": {},
   "outputs": [
    {
     "data": {
      "text/plain": [
       "(1668825, 34)"
      ]
     },
     "execution_count": 77,
     "metadata": {},
     "output_type": "execute_result"
    }
   ],
   "source": [
    "loans.shape"
   ]
  },
  {
   "cell_type": "code",
   "execution_count": 161,
   "metadata": {},
   "outputs": [
    {
     "data": {
      "text/plain": [
       "(1682656, 311)"
      ]
     },
     "execution_count": 161,
     "metadata": {},
     "output_type": "execute_result"
    }
   ],
   "source": [
    "X.shape"
   ]
  },
  {
   "cell_type": "code",
   "execution_count": 30,
   "metadata": {
    "scrolled": true
   },
   "outputs": [
    {
     "data": {
      "text/plain": [
       "1668825"
      ]
     },
     "execution_count": 30,
     "metadata": {},
     "output_type": "execute_result"
    }
   ],
   "source": [
    "len(loans.LOAN_ID)"
   ]
  },
  {
   "cell_type": "code",
   "execution_count": 78,
   "metadata": {},
   "outputs": [],
   "source": [
    "loans_id = loans.LOAN_ID"
   ]
  },
  {
   "cell_type": "code",
   "execution_count": 79,
   "metadata": {},
   "outputs": [],
   "source": [
    "down = pd.read_csv('/Users/zhanhaochen/Desktop/STA160/down.csv')"
   ]
  },
  {
   "cell_type": "code",
   "execution_count": 23,
   "metadata": {},
   "outputs": [
    {
     "data": {
      "text/plain": [
       "(150767, 15)"
      ]
     },
     "execution_count": 23,
     "metadata": {},
     "output_type": "execute_result"
    }
   ],
   "source": [
    "down.shape"
   ]
  },
  {
   "cell_type": "code",
   "execution_count": 85,
   "metadata": {},
   "outputs": [],
   "source": [
    "d2 = {}\n",
    "for i in range(len(down)):\n",
    "    d2[down.id[i]] = i\n"
   ]
  },
  {
   "cell_type": "code",
   "execution_count": 84,
   "metadata": {},
   "outputs": [
    {
     "data": {
      "text/plain": [
       "27"
      ]
     },
     "execution_count": 84,
     "metadata": {},
     "output_type": "execute_result"
    }
   ],
   "source": [
    "np.where(1470603 == loans_id)[0][0]"
   ]
  },
  {
   "cell_type": "code",
   "execution_count": 40,
   "metadata": {},
   "outputs": [],
   "source": [
    "test_label = np.load('/Users/zhanhaochen/Desktop/STA160/test_label.npy')"
   ]
  },
  {
   "cell_type": "code",
   "execution_count": 95,
   "metadata": {},
   "outputs": [],
   "source": [
    "comb_down = np.load('/Users/zhanhaochen/Desktop/STA160/comb_down.npy')"
   ]
  },
  {
   "cell_type": "code",
   "execution_count": 96,
   "metadata": {},
   "outputs": [
    {
     "data": {
      "text/plain": [
       "(150767, 310)"
      ]
     },
     "execution_count": 96,
     "metadata": {},
     "output_type": "execute_result"
    }
   ],
   "source": [
    "comb_down.shape"
   ]
  },
  {
   "cell_type": "code",
   "execution_count": null,
   "metadata": {},
   "outputs": [],
   "source": [
    "with open('/home/hzhan828/kiva/removed_indexes.pkl', 'rb') as handle:\n",
    "    removed_indexes = pickle.load(handle)"
   ]
  },
  {
   "cell_type": "markdown",
   "metadata": {},
   "source": [
    "## Split Data"
   ]
  },
  {
   "cell_type": "code",
   "execution_count": 188,
   "metadata": {},
   "outputs": [],
   "source": [
    "comb_amount = normalize(comb_amount)\n",
    "\n",
    "X_train, X_test, y_train, y_test = train_test_split(comb_amount, test_label,test_size = 0.1, random_state = 0)\n",
    "\n",
    "\n"
   ]
  },
  {
   "cell_type": "code",
   "execution_count": 314,
   "metadata": {},
   "outputs": [
    {
     "data": {
      "text/plain": [
       "(150767, 310)"
      ]
     },
     "execution_count": 314,
     "metadata": {},
     "output_type": "execute_result"
    }
   ],
   "source": [
    "comb_down.shape"
   ]
  },
  {
   "cell_type": "code",
   "execution_count": 43,
   "metadata": {},
   "outputs": [
    {
     "data": {
      "text/plain": [
       "(135690, 19)"
      ]
     },
     "execution_count": 43,
     "metadata": {},
     "output_type": "execute_result"
    }
   ],
   "source": [
    "X_train.shape"
   ]
  },
  {
   "cell_type": "markdown",
   "metadata": {},
   "source": [
    "## Regularized Logistic Regression"
   ]
  },
  {
   "cell_type": "code",
   "execution_count": 189,
   "metadata": {},
   "outputs": [
    {
     "name": "stdout",
     "output_type": "stream",
     "text": [
      "best score of other variables with Logistic Regression is: 0.8068\n"
     ]
    }
   ],
   "source": [
    "import warnings\n",
    "warnings.filterwarnings(\"ignore\")\n",
    "X_log_params = {\n",
    "    'penalty' : ['l1', 'l2'],\n",
    "    'C' : [.1, 5, 50]\n",
    "}\n",
    "X_log_gs = GridSearchCV(estimator=LogisticRegression(), param_grid=X_log_params, cv = 5, verbose=0,scoring='f1')\n",
    "X_log_gs.fit(X_train, y_train)\n",
    "print('best score of other variables with Logistic Regression is:', X_log_gs.best_score_.round(4))"
   ]
  },
  {
   "cell_type": "code",
   "execution_count": 102,
   "metadata": {},
   "outputs": [
    {
     "name": "stdout",
     "output_type": "stream",
     "text": [
      "{'C': 50, 'class_weight': None, 'dual': False, 'fit_intercept': True, 'intercept_scaling': 1, 'max_iter': 100, 'multi_class': 'warn', 'n_jobs': None, 'penalty': 'l1', 'random_state': None, 'solver': 'warn', 'tol': 0.0001, 'verbose': 0, 'warm_start': False}\n"
     ]
    }
   ],
   "source": [
    "print(X_log_gs.best_estimator_.get_params())"
   ]
  },
  {
   "cell_type": "code",
   "execution_count": 191,
   "metadata": {},
   "outputs": [
    {
     "name": "stdout",
     "output_type": "stream",
     "text": [
      "Accuracy: 0.8285467931286065\n"
     ]
    }
   ],
   "source": [
    "from sklearn import metrics\n",
    "logreg = LogisticRegression(C = 50, penalty = 'l1', random_state=1) #l1 is Ridge \n",
    "\n",
    "logreg.fit(X_train, y_train)\n",
    "preds = logreg.predict(X_test)\n",
    "print(\"Accuracy:\",metrics.accuracy_score(y_test, preds))"
   ]
  },
  {
   "cell_type": "code",
   "execution_count": 105,
   "metadata": {},
   "outputs": [],
   "source": [
    "probs_nut = X_log_gs.predict_proba(X_test)[:,1]"
   ]
  },
  {
   "cell_type": "code",
   "execution_count": 321,
   "metadata": {},
   "outputs": [
    {
     "data": {
      "text/plain": [
       "array([[0.3483243 , 0.6516757 ],\n",
       "       [0.00899669, 0.99100331],\n",
       "       [0.85148364, 0.14851636],\n",
       "       ...,\n",
       "       [0.91251022, 0.08748978],\n",
       "       [0.418479  , 0.581521  ],\n",
       "       [0.54258492, 0.45741508]])"
      ]
     },
     "execution_count": 321,
     "metadata": {},
     "output_type": "execute_result"
    }
   ],
   "source": [
    "X_log_gs.predict_proba(X_test)"
   ]
  },
  {
   "cell_type": "code",
   "execution_count": 109,
   "metadata": {},
   "outputs": [
    {
     "data": {
      "text/plain": [
       "<matplotlib.legend.Legend at 0x1a2a9c4860>"
      ]
     },
     "execution_count": 109,
     "metadata": {},
     "output_type": "execute_result"
    },
    {
     "data": {
      "image/png": "[encoded data removed]",
      "text/plain": [
       "<Figure size 432x432 with 1 Axes>"
      ]
     },
     "metadata": {
      "needs_background": "light"
     },
     "output_type": "display_data"
    }
   ],
   "source": [
    "from sklearn.metrics import roc_curve\n",
    "y_numerical = y_test\n",
    "fpr, tpr, _ = roc_curve(y_numerical, probs_nut)\n",
    "plt.figure(figsize = (6,6))\n",
    "plt.plot(fpr_rf, tpr_rf, label = 'RF');\n",
    "plt.plot(fpr, tpr, label = 'LR');\n",
    "plt.plot([0,max(y_numerical)],[0, max(y_numerical)], '--'); # it takes only encoded numerical y\n",
    "plt.title('ROC curve for the other variables with regularized logistic regression and random forest'.title());\n",
    "plt.xlabel('false positive rate'.title());\n",
    "plt.ylabel('true positive rate'.title());\n",
    "plt.legend()"
   ]
  },
  {
   "cell_type": "markdown",
   "metadata": {},
   "source": [
    "## Linear Model"
   ]
  },
  {
   "cell_type": "code",
   "execution_count": 112,
   "metadata": {},
   "outputs": [
    {
     "name": "stdout",
     "output_type": "stream",
     "text": [
      "Accuracy of Linear : 0.7737613583604165\n"
     ]
    }
   ],
   "source": [
    "class LinearClassifier(LinearRegression):\n",
    "    def predict(self, X):\n",
    "        return np.round(LinearRegression.predict(self, X))\n",
    "    def score(self, X, y):\n",
    "        return np.mean(self.predict(X) == y)\n",
    "estimator = LinearClassifier(fit_intercept = False, n_jobs = -1)\n",
    "estimator.fit(X_train, y_train)\n",
    "print('Accuracy of Linear :', estimator.score(X_test, y_test))"
   ]
  },
  {
   "cell_type": "code",
   "execution_count": 113,
   "metadata": {},
   "outputs": [
    {
     "name": "stdout",
     "output_type": "stream",
     "text": [
      "Accuracy of Ridge : 0.7244809975459309\n"
     ]
    }
   ],
   "source": [
    "class RidgeClassifier(Ridge):\n",
    "    def predict(self, X):\n",
    "        return np.round(Ridge.predict(self, X))\n",
    "    def score(self, X, y):\n",
    "        return np.mean(self.predict(X) == y)\n",
    "estimator = RidgeClassifier(fit_intercept = False, alpha = 1)\n",
    "estimator.fit(X_train, y_train)\n",
    "print('Accuracy of Ridge :', estimator.score(X_test, y_test))"
   ]
  },
  {
   "cell_type": "markdown",
   "metadata": {},
   "source": [
    "## Random Forest Classifier"
   ]
  },
  {
   "cell_type": "code",
   "execution_count": 162,
   "metadata": {},
   "outputs": [
    {
     "name": "stdout",
     "output_type": "stream",
     "text": [
      "Accuracy of Random Forest Classifier : 0.852357896133183\n"
     ]
    }
   ],
   "source": [
    "estimator = RandomForestClassifier(n_estimators = 50, n_jobs = -1)\n",
    "estimator.fit(X_train, y_train)\n",
    "print('Accuracy of Random Forest Classifier :', estimator.score(X_test, y_test))"
   ]
  },
  {
   "cell_type": "code",
   "execution_count": 106,
   "metadata": {},
   "outputs": [],
   "source": [
    "probs_nut_rf = estimator.predict_proba(X_test)[:,1]"
   ]
  },
  {
   "cell_type": "code",
   "execution_count": 108,
   "metadata": {},
   "outputs": [],
   "source": [
    "y_numerical_rf = y_test\n",
    "fpr_rf, tpr_rf, _ = roc_curve(y_numerical_rf, probs_nut_rf)\n"
   ]
  },
  {
   "cell_type": "code",
   "execution_count": 163,
   "metadata": {},
   "outputs": [],
   "source": [
    "importance = estimator.feature_importances_\n",
    "features = pd.Series(list(X), name = 'features')"
   ]
  },
  {
   "cell_type": "code",
   "execution_count": 164,
   "metadata": {},
   "outputs": [],
   "source": [
    "importance = pd.Series(importance, name = 'importance')\n",
    "\n"
   ]
  },
  {
   "cell_type": "code",
   "execution_count": 177,
   "metadata": {},
   "outputs": [
    {
     "data": {
      "text/plain": [
       "array(['field_partner', 'direct'], dtype=object)"
      ]
     },
     "execution_count": 177,
     "metadata": {},
     "output_type": "execute_result"
    }
   ],
   "source": [
    "loans.DISTRIBUTION_MODEL.unique()"
   ]
  },
  {
   "cell_type": "code",
   "execution_count": 165,
   "metadata": {},
   "outputs": [],
   "source": [
    "RFimportance = pd.concat([features, importance],axis = 1)"
   ]
  },
  {
   "cell_type": "code",
   "execution_count": 176,
   "metadata": {},
   "outputs": [
    {
     "data": {
      "text/html": [
       "<div>\n",
       "<style scoped>\n",
       "    .dataframe tbody tr th:only-of-type {\n",
       "        vertical-align: middle;\n",
       "    }\n",
       "\n",
       "    .dataframe tbody tr th {\n",
       "        vertical-align: top;\n",
       "    }\n",
       "\n",
       "    .dataframe thead th {\n",
       "        text-align: right;\n",
       "    }\n",
       "</style>\n",
       "<table border=\"1\" class=\"dataframe\">\n",
       "  <thead>\n",
       "    <tr style=\"text-align: right;\">\n",
       "      <th></th>\n",
       "      <th>features</th>\n",
       "      <th>importance</th>\n",
       "    </tr>\n",
       "  </thead>\n",
       "  <tbody>\n",
       "    <tr>\n",
       "      <th>265</th>\n",
       "      <td>CURRENCY_POLICY</td>\n",
       "      <td>0.084605</td>\n",
       "    </tr>\n",
       "    <tr>\n",
       "      <th>164</th>\n",
       "      <td>NUM_LENDERS_TOTAL</td>\n",
       "      <td>0.069178</td>\n",
       "    </tr>\n",
       "    <tr>\n",
       "      <th>309</th>\n",
       "      <td>monthly</td>\n",
       "      <td>0.064061</td>\n",
       "    </tr>\n",
       "    <tr>\n",
       "      <th>308</th>\n",
       "      <td>irregular</td>\n",
       "      <td>0.059904</td>\n",
       "    </tr>\n",
       "    <tr>\n",
       "      <th>310</th>\n",
       "      <td>DISTRIBUTION_MODEL</td>\n",
       "      <td>0.059295</td>\n",
       "    </tr>\n",
       "    <tr>\n",
       "      <th>280</th>\n",
       "      <td>#Widowed</td>\n",
       "      <td>0.056552</td>\n",
       "    </tr>\n",
       "    <tr>\n",
       "      <th>163</th>\n",
       "      <td>LOAN_AMOUNT</td>\n",
       "      <td>0.047371</td>\n",
       "    </tr>\n",
       "    <tr>\n",
       "      <th>264</th>\n",
       "      <td>Zimbabwe</td>\n",
       "      <td>0.036652</td>\n",
       "    </tr>\n",
       "    <tr>\n",
       "      <th>267</th>\n",
       "      <td>#Schooling</td>\n",
       "      <td>0.030490</td>\n",
       "    </tr>\n",
       "    <tr>\n",
       "      <th>271</th>\n",
       "      <td>#Job Creator</td>\n",
       "      <td>0.020676</td>\n",
       "    </tr>\n",
       "    <tr>\n",
       "      <th>269</th>\n",
       "      <td>#Single Parent</td>\n",
       "      <td>0.015034</td>\n",
       "    </tr>\n",
       "    <tr>\n",
       "      <th>186</th>\n",
       "      <td>China</td>\n",
       "      <td>0.013515</td>\n",
       "    </tr>\n",
       "    <tr>\n",
       "      <th>274</th>\n",
       "      <td>#Health and Sanitation</td>\n",
       "      <td>0.012848</td>\n",
       "    </tr>\n",
       "    <tr>\n",
       "      <th>281</th>\n",
       "      <td>#Parent</td>\n",
       "      <td>0.011117</td>\n",
       "    </tr>\n",
       "    <tr>\n",
       "      <th>193</th>\n",
       "      <td>Egypt</td>\n",
       "      <td>0.010794</td>\n",
       "    </tr>\n",
       "    <tr>\n",
       "      <th>57</th>\n",
       "      <td>Farming</td>\n",
       "      <td>0.010505</td>\n",
       "    </tr>\n",
       "    <tr>\n",
       "      <th>72</th>\n",
       "      <td>General Store</td>\n",
       "      <td>0.010162</td>\n",
       "    </tr>\n",
       "    <tr>\n",
       "      <th>233</th>\n",
       "      <td>Peru</td>\n",
       "      <td>0.009967</td>\n",
       "    </tr>\n",
       "    <tr>\n",
       "      <th>275</th>\n",
       "      <td>#Elderly</td>\n",
       "      <td>0.009509</td>\n",
       "    </tr>\n",
       "    <tr>\n",
       "      <th>306</th>\n",
       "      <td>#Pre-disbursed</td>\n",
       "      <td>0.008991</td>\n",
       "    </tr>\n",
       "  </tbody>\n",
       "</table>\n",
       "</div>"
      ],
      "text/plain": [
       "                   features  importance\n",
       "265         CURRENCY_POLICY    0.084605\n",
       "164       NUM_LENDERS_TOTAL    0.069178\n",
       "309                 monthly    0.064061\n",
       "308               irregular    0.059904\n",
       "310      DISTRIBUTION_MODEL    0.059295\n",
       "280                #Widowed    0.056552\n",
       "163             LOAN_AMOUNT    0.047371\n",
       "264                Zimbabwe    0.036652\n",
       "267              #Schooling    0.030490\n",
       "271            #Job Creator    0.020676\n",
       "269          #Single Parent    0.015034\n",
       "186                   China    0.013515\n",
       "274  #Health and Sanitation    0.012848\n",
       "281                 #Parent    0.011117\n",
       "193                   Egypt    0.010794\n",
       "57                  Farming    0.010505\n",
       "72            General Store    0.010162\n",
       "233                    Peru    0.009967\n",
       "275                #Elderly    0.009509\n",
       "306          #Pre-disbursed    0.008991"
      ]
     },
     "execution_count": 176,
     "metadata": {},
     "output_type": "execute_result"
    }
   ],
   "source": [
    "RFimportance.sort_values(by = 'importance',ascending = False).head(20)"
   ]
  },
  {
   "cell_type": "code",
   "execution_count": 241,
   "metadata": {},
   "outputs": [],
   "source": [
    "RFimportance.to_csv('RFimportance')"
   ]
  },
  {
   "cell_type": "code",
   "execution_count": null,
   "metadata": {},
   "outputs": [],
   "source": [
    "class SingularValueClassifier:\n",
    "    def __init__(self, r):\n",
    "        self.r = r\n",
    "    def fit(self, X_train, y_train):\n",
    "        U, S, Vh = svd(X_train)\n",
    "        U = U[:, :Vh.shape[0]]\n",
    "        S[S!=0] = 1/S[S!=0]\n",
    "        S = np.diag(S)\n",
    "        self.A = Vh.T.dot(S)\n",
    "        self.b = U.T.dot(y_train.reshape(-1,1))\n",
    "        self.change_rank(self.r)        \n",
    "    def predict(self, X_test):\n",
    "        y_pred = X_test.dot(self.beta)\n",
    "        y_pred = y_pred.reshape(-1)\n",
    "        return np.round(y_pred)        \n",
    "    def change_rank(self, r):\n",
    "        self.r = r\n",
    "        A = self.A[:, :self.r]\n",
    "        b = self.b[:self.r, :]\n",
    "        self.beta = A.dot(b)\n",
    "# estimator_model = SingularValueClassifier(r = 30)\n",
    "# estimator_model.fit(X_train, y_train)\n",
    "# y_pred = estimator_model.predict(X_test)\n",
    "# np.mean(y_pred == y_test)\n",
    "# print('Accuracy of SingularValue :', np.mean(y_pred == y_test))"
   ]
  },
  {
   "cell_type": "code",
   "execution_count": 329,
   "metadata": {},
   "outputs": [],
   "source": [
    "#using doc2vec mean to input activity name\n",
    "w2vmean = np.load('/Users/zhanhaochen/Desktop/STA160/w2vmean.npy')"
   ]
  },
  {
   "cell_type": "code",
   "execution_count": 332,
   "metadata": {},
   "outputs": [
    {
     "data": {
      "text/plain": [
       "(150767, 100)"
      ]
     },
     "execution_count": 332,
     "metadata": {},
     "output_type": "execute_result"
    }
   ],
   "source": [
    "w2vmean.shape"
   ]
  },
  {
   "cell_type": "code",
   "execution_count": 335,
   "metadata": {},
   "outputs": [
    {
     "data": {
      "text/plain": [
       "(150767, 310)"
      ]
     },
     "execution_count": 335,
     "metadata": {},
     "output_type": "execute_result"
    }
   ],
   "source": [
    "comb_down.shape"
   ]
  },
  {
   "cell_type": "markdown",
   "metadata": {},
   "source": [
    "# MLP for w2vmean and other variables"
   ]
  },
  {
   "cell_type": "code",
   "execution_count": 347,
   "metadata": {},
   "outputs": [],
   "source": [
    "test_label = test_label.reshape(150767,1)\n"
   ]
  },
  {
   "cell_type": "code",
   "execution_count": 195,
   "metadata": {},
   "outputs": [
    {
     "name": "stdout",
     "output_type": "stream",
     "text": [
      "WARNING:tensorflow:From /anaconda3/lib/python3.7/site-packages/tensorflow/python/ops/math_ops.py:3066: to_int32 (from tensorflow.python.ops.math_ops) is deprecated and will be removed in a future version.\n",
      "Instructions for updating:\n",
      "Use tf.cast instead.\n",
      "Train on 122121 samples, validate on 13569 samples\n",
      "Epoch 1/20\n",
      "122121/122121 [==============================] - 17s 136us/step - loss: 0.4872 - acc: 0.7551 - val_loss: 0.4297 - val_acc: 0.8048\n",
      "Epoch 2/20\n",
      "122121/122121 [==============================] - 15s 125us/step - loss: 0.4281 - acc: 0.8021 - val_loss: 0.4632 - val_acc: 0.7797\n",
      "Epoch 3/20\n",
      "122121/122121 [==============================] - 15s 124us/step - loss: 0.4139 - acc: 0.8113 - val_loss: 0.3967 - val_acc: 0.8212\n",
      "Epoch 4/20\n",
      "122121/122121 [==============================] - 15s 124us/step - loss: 0.4029 - acc: 0.8163 - val_loss: 0.4058 - val_acc: 0.8196\n",
      "Epoch 5/20\n",
      "122121/122121 [==============================] - 15s 124us/step - loss: 0.3951 - acc: 0.8202 - val_loss: 0.3850 - val_acc: 0.8301\n",
      "Epoch 6/20\n",
      "122121/122121 [==============================] - 15s 126us/step - loss: 0.3902 - acc: 0.8233 - val_loss: 0.4490 - val_acc: 0.7880\n",
      "Epoch 7/20\n",
      "122121/122121 [==============================] - 15s 125us/step - loss: 0.3853 - acc: 0.8260 - val_loss: 0.3799 - val_acc: 0.8276\n",
      "Epoch 8/20\n",
      "122121/122121 [==============================] - 15s 127us/step - loss: 0.3831 - acc: 0.8269 - val_loss: 0.3783 - val_acc: 0.8323\n",
      "Epoch 9/20\n",
      "122121/122121 [==============================] - 15s 125us/step - loss: 0.3800 - acc: 0.8276 - val_loss: 0.3746 - val_acc: 0.8333\n",
      "Epoch 10/20\n",
      "122121/122121 [==============================] - 15s 124us/step - loss: 0.3785 - acc: 0.8295 - val_loss: 0.4229 - val_acc: 0.8051\n",
      "Epoch 11/20\n",
      "122121/122121 [==============================] - 15s 125us/step - loss: 0.3758 - acc: 0.8308 - val_loss: 0.3931 - val_acc: 0.8210\n"
     ]
    },
    {
     "data": {
      "text/plain": [
       "<keras.callbacks.History at 0x1a74507eb8>"
      ]
     },
     "execution_count": 195,
     "metadata": {},
     "output_type": "execute_result"
    }
   ],
   "source": [
    "#with loan_amount\n",
    "from keras.layers import Input, Concatenate, Dense, Embedding, Flatten, LSTM\n",
    "from keras.models import Model, Sequential\n",
    "from keras.callbacks import EarlyStopping\n",
    "early_stopping_monitor = EarlyStopping(patience=2)\n",
    "A1 = Input(shape=(311,),name='A1')\n",
    "\n",
    "A2 = Dense(512, activation='relu',name='A2')(A1)\n",
    "A3 = Dense(512, activation='relu',name='A3')(A2)\n",
    "A4 = Dense(1, activation='sigmoid',name='A4')(A3)\n",
    "model = Model(inputs=A1,outputs = A4)\n",
    "model.compile(loss='binary_crossentropy',optimizer='adam',metrics=['accuracy'])\n",
    "model.fit(X_train, y_train, epochs=20, batch_size=None, validation_split=0.1, \n",
    "          verbose=True, callbacks = [early_stopping_monitor]) "
   ]
  },
  {
   "cell_type": "code",
   "execution_count": 196,
   "metadata": {},
   "outputs": [
    {
     "name": "stdout",
     "output_type": "stream",
     "text": [
      "15077/15077 [==============================] - 0s 22us/step\n"
     ]
    },
    {
     "data": {
      "text/plain": [
       "[0.37898607033866305, 0.829740664588446]"
      ]
     },
     "execution_count": 196,
     "metadata": {},
     "output_type": "execute_result"
    }
   ],
   "source": [
    "model.evaluate(X_test, y_test)"
   ]
  },
  {
   "cell_type": "code",
   "execution_count": 372,
   "metadata": {},
   "outputs": [
    {
     "name": "stdout",
     "output_type": "stream",
     "text": [
      "Train on 122121 samples, validate on 13569 samples\n",
      "Epoch 1/20\n",
      "122121/122121 [==============================] - 33s 273us/step - loss: 0.4166 - acc: 0.8106 - val_loss: 0.4079 - val_acc: 0.8162\n",
      "Epoch 2/20\n",
      "122121/122121 [==============================] - 30s 245us/step - loss: 0.3821 - acc: 0.8307 - val_loss: 0.3899 - val_acc: 0.8270\n",
      "Epoch 3/20\n",
      "122121/122121 [==============================] - 31s 250us/step - loss: 0.3676 - acc: 0.8377 - val_loss: 0.3864 - val_acc: 0.8312\n",
      "Epoch 4/20\n",
      "122121/122121 [==============================] - 30s 245us/step - loss: 0.3547 - acc: 0.8439 - val_loss: 0.3833 - val_acc: 0.8303\n",
      "Epoch 5/20\n",
      "122121/122121 [==============================] - 30s 246us/step - loss: 0.3446 - acc: 0.8483 - val_loss: 0.3904 - val_acc: 0.8310\n",
      "Epoch 6/20\n",
      "122121/122121 [==============================] - 30s 249us/step - loss: 0.3334 - acc: 0.8542 - val_loss: 0.3979 - val_acc: 0.8267\n"
     ]
    },
    {
     "data": {
      "text/plain": [
       "<keras.callbacks.History at 0x1ab42a0940>"
      ]
     },
     "execution_count": 372,
     "metadata": {},
     "output_type": "execute_result"
    }
   ],
   "source": [
    "#without loan_amount\n",
    "from keras.layers import Input, Concatenate, Dense, Embedding, Flatten, LSTM\n",
    "from keras.models import Model, Sequential\n",
    "from keras.callbacks import EarlyStopping\n",
    "early_stopping_monitor = EarlyStopping(patience=2)\n",
    "A1 = Input(shape=(310,),name='A1')\n",
    "\n",
    "A2 = Dense(512, activation='relu',name='A2')(A1)\n",
    "A3 = Dense(512, activation='relu',name='A3')(A2)\n",
    "A4 = Dense(256, activation='relu',name='A4')(A3)\n",
    "\n",
    "\n",
    "B1 = Input(shape=(100,),name='B1')\n",
    "B2 = Dense(256, activation='relu',name='B2')(B1)\n",
    "B3 = Dense(64, activation='relu',name='B3')(B2)\n",
    "\n",
    "merged = Concatenate()([A3,B3])\n",
    "C1 = Dense(320, activation='relu',name='C1')(merged)\n",
    "\n",
    "C2 = Dense(160, activation='relu',name='C2')(C1)\n",
    "C3 = Dense(1, activation='sigmoid',name='C3')(C2)\n",
    "model = Model(inputs=[A1,B1],outputs = C3)\n",
    "model.compile(loss='binary_crossentropy',optimizer='adam',metrics=['accuracy'])\n",
    "model.fit([X_train,w2v_train], y_train, epochs=20, batch_size=None, validation_split=0.1, \n",
    "          verbose=True, callbacks = [early_stopping_monitor]) \n",
    "\n"
   ]
  },
  {
   "cell_type": "code",
   "execution_count": 374,
   "metadata": {},
   "outputs": [
    {
     "name": "stdout",
     "output_type": "stream",
     "text": [
      "15077/15077 [==============================] - 1s 56us/step\n"
     ]
    },
    {
     "data": {
      "text/plain": [
       "[0.38667267380587306, 0.8365059361942031]"
      ]
     },
     "execution_count": 374,
     "metadata": {},
     "output_type": "execute_result"
    }
   ],
   "source": [
    "model.evaluate([X_test, w2v_test], y_test)"
   ]
  },
  {
   "cell_type": "markdown",
   "metadata": {},
   "source": [
    "# Doc2vec and other variables."
   ]
  },
  {
   "cell_type": "code",
   "execution_count": 385,
   "metadata": {},
   "outputs": [],
   "source": [
    "#Doc2Vec by pretrained Wikipedia data\n",
    "X = np.load('/Users/zhanhaochen/Desktop/STA160/d2vecs.npy')"
   ]
  },
  {
   "cell_type": "code",
   "execution_count": 397,
   "metadata": {},
   "outputs": [
    {
     "name": "stdout",
     "output_type": "stream",
     "text": [
      "__________________________________________________________________________________________________\n",
      "Layer (type)                    Output Shape         Param #     Connected to                     \n",
      "==================================================================================================\n",
      "A1 (InputLayer)                 (None, 310)          0                                            \n",
      "__________________________________________________________________________________________________\n",
      "B1 (InputLayer)                 (None, 300)          0                                            \n",
      "__________________________________________________________________________________________________\n",
      "A2 (Dense)                      (None, 512)          159232      A1[0][0]                         \n",
      "__________________________________________________________________________________________________\n",
      "B2 (Dense)                      (None, 256)          77056       B1[0][0]                         \n",
      "__________________________________________________________________________________________________\n",
      "A3 (Dense)                      (None, 512)          262656      A2[0][0]                         \n",
      "__________________________________________________________________________________________________\n",
      "B3 (Dense)                      (None, 64)           16448       B2[0][0]                         \n",
      "__________________________________________________________________________________________________\n",
      "concatenate_24 (Concatenate)    (None, 576)          0           A3[0][0]                         \n",
      "                                                                 B3[0][0]                         \n",
      "__________________________________________________________________________________________________\n",
      "C1 (Dense)                      (None, 320)          184640      concatenate_24[0][0]             \n",
      "__________________________________________________________________________________________________\n",
      "C2 (Dense)                      (None, 160)          51360       C1[0][0]                         \n",
      "__________________________________________________________________________________________________\n",
      "C3 (Dense)                      (None, 160)          25760       C2[0][0]                         \n",
      "__________________________________________________________________________________________________\n",
      "C4 (Dense)                      (None, 1)            161         C3[0][0]                         \n",
      "==================================================================================================\n",
      "Total params: 777,313\n",
      "Trainable params: 777,313\n",
      "Non-trainable params: 0\n",
      "__________________________________________________________________________________________________\n"
     ]
    },
    {
     "data": {
      "image/png": "[encoded data removed]",
      "text/plain": [
       "<Figure size 864x864 with 1 Axes>"
      ]
     },
     "metadata": {
      "needs_background": "light"
     },
     "output_type": "display_data"
    }
   ],
   "source": [
    "from keras.utils import plot_model\n",
    "import matplotlib.pyplot as plt\n",
    "\n",
    "# Summarize the model\n",
    "model.summary()\n",
    "\n",
    "\n",
    "# Plot the model\n",
    "plot_model(model, to_file='model.png')\n",
    "\n",
    "# Display the image\n",
    "data = plt.imread('model.png')\n",
    "plt.figure(figsize = (12,12))\n",
    "plt.imshow(data)\n",
    "plt.show()"
   ]
  },
  {
   "cell_type": "code",
   "execution_count": 386,
   "metadata": {},
   "outputs": [],
   "source": [
    "X_train, X_test, y_train, y_test, d2v_train, d2v_test = train_test_split(comb_down, test_label, X,test_size = 0.1, random_state = 0)\n"
   ]
  },
  {
   "cell_type": "code",
   "execution_count": 399,
   "metadata": {},
   "outputs": [
    {
     "name": "stdout",
     "output_type": "stream",
     "text": [
      "Train on 122121 samples, validate on 13569 samples\n",
      "Epoch 1/20\n",
      "122121/122121 [==============================] - 44s 356us/step - loss: 0.4186 - acc: 0.8097 - val_loss: 0.3989 - val_acc: 0.8205\n",
      "Epoch 2/20\n",
      "122121/122121 [==============================] - 36s 298us/step - loss: 0.3811 - acc: 0.8305 - val_loss: 0.3903 - val_acc: 0.8263\n",
      "Epoch 3/20\n",
      "122121/122121 [==============================] - 36s 296us/step - loss: 0.3614 - acc: 0.8408 - val_loss: 0.3873 - val_acc: 0.8294\n",
      "Epoch 4/20\n",
      "122121/122121 [==============================] - 36s 296us/step - loss: 0.3442 - acc: 0.8494 - val_loss: 0.3976 - val_acc: 0.8262\n",
      "Epoch 5/20\n",
      "122121/122121 [==============================] - 35s 289us/step - loss: 0.3257 - acc: 0.8575 - val_loss: 0.3900 - val_acc: 0.8314\n"
     ]
    }
   ],
   "source": [
    "early_stopping_monitor = EarlyStopping(patience=2)\n",
    "A1 = Input(shape=(310,),name='A1')\n",
    "\n",
    "A2 = Dense(512, activation='relu',name='A2')(A1)\n",
    "A3 = Dense(512, activation='relu',name='A3')(A2)\n",
    "A4 = Dense(512, activation='relu',name='A4')(A3)\n",
    "A5 = Dense(256, activation='relu',name='A5')(A4)\n",
    "\n",
    "\n",
    "B1 = Input(shape=(300,),name='B1')\n",
    "B2 = Dense(256, activation='relu',name='B2')(B1)\n",
    "B3 = Dense(64, activation='relu',name='B3')(B2)\n",
    "\n",
    "merged = Concatenate()([A3,B3])\n",
    "C1 = Dense(320, activation='relu',name='C1')(merged)\n",
    "\n",
    "C2 = Dense(160, activation='relu',name='C2')(C1)\n",
    "\n",
    "C3 = Dense(160, activation='relu',name='C3')(C2)\n",
    "C4 = Dense(1, activation='sigmoid',name='C4')(C3)\n",
    "model = Model(inputs=[A1,B1],outputs = C4)\n",
    "model.compile(loss='binary_crossentropy',optimizer='adam',metrics=['accuracy'])\n",
    "training = model.fit([X_train,d2v_train], y_train, epochs=20, batch_size=None, validation_split=0.1, \n",
    "          verbose=True, callbacks = [early_stopping_monitor]) "
   ]
  },
  {
   "cell_type": "code",
   "execution_count": 395,
   "metadata": {},
   "outputs": [
    {
     "name": "stdout",
     "output_type": "stream",
     "text": [
      "15077/15077 [==============================] - 1s 79us/step\n"
     ]
    },
    {
     "data": {
      "text/plain": [
       "[0.39036395784484507, 0.8374345028851894]"
      ]
     },
     "execution_count": 395,
     "metadata": {},
     "output_type": "execute_result"
    }
   ],
   "source": [
    "model.evaluate([X_test, d2v_test], y_test)"
   ]
  },
  {
   "cell_type": "code",
   "execution_count": 15,
   "metadata": {},
   "outputs": [
    {
     "data": {
      "image/png": "[encoded data removed]",
      "text/plain": [
       "<Figure size 432x288 with 1 Axes>"
      ]
     },
     "metadata": {
      "needs_background": "light"
     },
     "output_type": "display_data"
    }
   ],
   "source": [
    "val_auc = [0.8205,0.8263,0.8294,0.8262,0.8314]\n",
    "val_loss = [0.3989,0.3903,0.3873,0.3976,0.3900]\n",
    "import matplotlib.pyplot as plt\n",
    "plt.plot(range(1,6),val_auc,'.-', label = 'validation accuracy')\n",
    "plt.plot(range(1,6),val_loss,'.-', label = 'validation loss')\n",
    "plt.legend()\n",
    "plt.title('validation accuracy & loss rate')\n",
    "plt.xlabel('Epoch')\n",
    "plt.ylabel('Rate')\n",
    "plt.show()"
   ]
  },
  {
   "cell_type": "code",
   "execution_count": 400,
   "metadata": {},
   "outputs": [
    {
     "data": {
      "image/png": "[encoded data removed]",
      "text/plain": [
       "<Figure size 432x288 with 1 Axes>"
      ]
     },
     "metadata": {
      "needs_background": "light"
     },
     "output_type": "display_data"
    }
   ],
   "source": [
    "import matplotlib.pyplot as plt\n",
    "plt.plot(training.history['loss'])\n",
    "plt.plot(training.history['val_loss'])\n",
    "plt.show()"
   ]
  },
  {
   "cell_type": "markdown",
   "metadata": {},
   "source": [
    "#Choose the best weight when val loss is at minimum\n",
    "from keras.callbacks import ModelCheckpoint\n",
    "\n",
    "# This checkpoint object will store the model parameters \n",
    "# in the file \"weights.hdf5\"\n",
    "checkpoint = ModelCheckpoint('weights.hdf5', monitor='val_loss', \n",
    "                             save_best_only=True)\n",
    "# Store in a list to be used during training\n",
    "callbacks_list = [checkpoint]\n",
    "# Fit the model on a training set, using the checkpoint as a callback\n",
    "model.fit(train_data, train_labels, validation_split=0.2, epochs=3,         \n",
    "          callbacks=callbacks_list)\n",
    "model.load_weights('weights.hdf5')\n",
    "model.predict_classes(test_data)"
   ]
  },
  {
   "cell_type": "markdown",
   "metadata": {},
   "source": [
    "Regularized neural network\n",
    "Dropout\n",
    "In each learning step:\n",
    "\n",
    "Select a subset of the units\n",
    "Ignore it in the forward pass\n",
    "And in the back-propagation of error\n",
    "\n",
    "it substantially reduces overfitting on a variety of tasks.\n",
    "model.add(Dropout(0.25))\n"
   ]
  },
  {
   "cell_type": "markdown",
   "metadata": {},
   "source": [
    "model.add(BatchNormalization())\n",
    "Batch normalization is another form of regularization that rescales the outputs of a layer to make sure that they have mean 0 and standard deviation 1.\n",
    "Dropout and BatchNormalization are sometimes incompatible because dropout slows down learning while BatchNormalization makes it incrementally faster. It's called disharmony of Dropout and BatchNormalization"
   ]
  },
  {
   "cell_type": "markdown",
   "metadata": {},
   "source": [
    "conv1 = model.layers[0]\n",
    "weight1 = conv1.get_weights()"
   ]
  }
 ],
 "metadata": {
  "kernelspec": {
   "display_name": "Python 3",
   "language": "python",
   "name": "python3"
  },
  "language_info": {
   "codemirror_mode": {
    "name": "ipython",
    "version": 3
   },
   "file_extension": ".py",
   "mimetype": "text/x-python",
   "name": "python",
   "nbconvert_exporter": "python",
   "pygments_lexer": "ipython3",
   "version": "3.7.3"
  }
 },
 "nbformat": 4,
 "nbformat_minor": 2
}
